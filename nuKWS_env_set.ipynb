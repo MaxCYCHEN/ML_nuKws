{
 "cells": [
  {
   "cell_type": "markdown",
   "id": "92247438-b181-43e6-a66c-dbfdc77d371a",
   "metadata": {},
   "source": [
    "# Create new env automatically, please follow the below easy instruction\n",
    "- you can also use these command in CMD.exe or Powershell Prompt in Anaconda. "
   ]
  },
  {
   "cell_type": "code",
   "execution_count": null,
   "id": "113eb20d-7eb8-4f5d-8bea-b270e705fea9",
   "metadata": {},
   "outputs": [],
   "source": [
    "!conda env create -f kws_env.yml"
   ]
  },
  {
   "cell_type": "markdown",
   "id": "c1463095-6943-49ac-b080-6402af372af2",
   "metadata": {},
   "source": [
    "# Active the `kws` environment\n",
    "- Close the JupyterLab to reload the new environment.\n",
    "- Choose the kws env as the picture\n",
    "- <img src=\"anaconda.png\" width=\"500\" height=\"400\">"
   ]
  },
  {
   "cell_type": "markdown",
   "id": "e6f7beec-dc67-4021-86d2-b810a5ff7b67",
   "metadata": {},
   "source": [
    "- The other way is:\n",
    "    - Activate the new environment in CMD.exe \n",
    "    - Copy the next command in CMD.exe"
   ]
  },
  {
   "cell_type": "code",
   "execution_count": null,
   "id": "fe196d57-1cb2-4776-a6ed-fbf4ccbc102c",
   "metadata": {},
   "outputs": [],
   "source": [
    "conda activate kws"
   ]
  }
 ],
 "metadata": {
  "kernelspec": {
   "display_name": "Python 3 (ipykernel)",
   "language": "python",
   "name": "python3"
  },
  "language_info": {
   "codemirror_mode": {
    "name": "ipython",
    "version": 3
   },
   "file_extension": ".py",
   "mimetype": "text/x-python",
   "name": "python",
   "nbconvert_exporter": "python",
   "pygments_lexer": "ipython3",
   "version": "3.8.13"
  }
 },
 "nbformat": 4,
 "nbformat_minor": 5
}
